{
 "cells": [
  {
   "cell_type": "markdown",
   "metadata": {
    "ExecuteTime": {
     "end_time": "2023-06-25T16:31:33.185038Z",
     "start_time": "2023-06-25T16:31:31.700675Z"
    }
   },
   "source": [
    "# Tutorial for fitting sinusoidal nonhomogeneous Poisson processes (NHPPs)"
   ]
  },
  {
   "cell_type": "markdown",
   "metadata": {},
   "source": [
    "This tutorial demonstrates how to fit to data the sinusoidal NHPP model with arrival rate\n",
    "\\begin{equation}\n",
    "\\lambda(t)=c_{0}+\\sum_{k=1}^{p}c_{k}\\cos(2\\pi\\nu_{k}t+\\phi_{k})\n",
    "\\end{equation}\n",
    "from the paper [Can customer arrival rates be modelled by sine waves?](https://papers.ssrn.com/sol3/papers.cfm?abstract_id=3125120) (forthcoming joint issue in *Service Science* and *Stochastic Systems*).\n",
    "\n",
    "The frequencies $\\nu_1,\\cdots,\\nu_p$ can take on any values in a pre-specified band $[-B,+B]$, and $\\phi_k \\in [0,2\\pi)$ and $c_k$ are respectively the phase and amplitude of the $k$-th sinusoid. The number of sinusoids $p$ will be estimated from data.\n",
    "\n",
    "The details of the estimation procedure is described in Appendix A of the paper. In turn, the procedure is a simpler variant of the one proposed in [Super-resolution estimation of cyclic arrival rates](https://projecteuclid.org/journals/annals-of-statistics/volume-47/issue-3/Super-resolution-estimation-of-cyclic-arrival-rates/10.1214/18-AOS1736.full) (*Annals of Statistics* 2019)."
   ]
  },
  {
   "cell_type": "code",
   "execution_count": 1,
   "metadata": {},
   "outputs": [],
   "source": [
    "import pandas as pd\n",
    "import numpy as np\n",
    "import help_funcs\n",
    "import matplotlib.pyplot as plt"
   ]
  },
  {
   "cell_type": "markdown",
   "metadata": {},
   "source": [
    "Read in a simulated arrivals dataset consisting of arrival timestamps over the course of 365 days ($T=365$). The data is generated according to the NHPP model in Section 3 of the paper, with $\\alpha = 3$. To keep this illustrative dataset to a reasonable size, we scale down the arrival rate used in the paper by a factor of 10 in order to reduce the number of simulated arrivals.  "
   ]
  },
  {
   "cell_type": "code",
   "execution_count": 2,
   "metadata": {
    "ExecuteTime": {
     "end_time": "2023-06-25T16:31:36.271053Z",
     "start_time": "2023-06-25T16:31:36.169658Z"
    },
    "scrolled": false
   },
   "outputs": [
    {
     "data": {
      "text/html": [
       "<div>\n",
       "<style scoped>\n",
       "    .dataframe tbody tr th:only-of-type {\n",
       "        vertical-align: middle;\n",
       "    }\n",
       "\n",
       "    .dataframe tbody tr th {\n",
       "        vertical-align: top;\n",
       "    }\n",
       "\n",
       "    .dataframe thead th {\n",
       "        text-align: right;\n",
       "    }\n",
       "</style>\n",
       "<table border=\"1\" class=\"dataframe\">\n",
       "  <thead>\n",
       "    <tr style=\"text-align: right;\">\n",
       "      <th></th>\n",
       "      <th>arrival_time_in_days</th>\n",
       "    </tr>\n",
       "  </thead>\n",
       "  <tbody>\n",
       "    <tr>\n",
       "      <th>0</th>\n",
       "      <td>0.002607</td>\n",
       "    </tr>\n",
       "    <tr>\n",
       "      <th>1</th>\n",
       "      <td>0.003344</td>\n",
       "    </tr>\n",
       "    <tr>\n",
       "      <th>2</th>\n",
       "      <td>0.003906</td>\n",
       "    </tr>\n",
       "    <tr>\n",
       "      <th>3</th>\n",
       "      <td>0.005658</td>\n",
       "    </tr>\n",
       "    <tr>\n",
       "      <th>4</th>\n",
       "      <td>0.008437</td>\n",
       "    </tr>\n",
       "  </tbody>\n",
       "</table>\n",
       "</div>"
      ],
      "text/plain": [
       "   arrival_time_in_days\n",
       "0              0.002607\n",
       "1              0.003344\n",
       "2              0.003906\n",
       "3              0.005658\n",
       "4              0.008437"
      ]
     },
     "execution_count": 2,
     "metadata": {},
     "output_type": "execute_result"
    }
   ],
   "source": [
    "arrivals = pd.read_csv('simulated_arrivals.csv')\n",
    "arrivals.head()"
   ]
  },
  {
   "cell_type": "markdown",
   "metadata": {},
   "source": [
    "Use the `center_periodogram()` function from the `help_funcs` module to identify the frequencies $\\nu_1,\\cdots,\\nu_p$ in the arrivals data. This corresponds to equation (12) and Figure 4 in Appendix A of the paper.\n",
    "\n",
    "\n",
    "The `center_periodogram()` function accepts the following arguments:\n",
    "- `T`: Length of the observation window ($T=365$ days in the example)\n",
    "- `a`: Average arrival rate, `obs`/`T`\n",
    "- `obs`: The arrival timestamps as a $1\\times N$ numpy array\n",
    "- `freq_grid`: The grid of frequencies used to sample the periodogram. The spacing of the grid needs to be asymptotically smaller than order $1/T$. In this example we use a resolution of $1/(T\\log T)$"
   ]
  },
  {
   "cell_type": "code",
   "execution_count": 3,
   "metadata": {
    "ExecuteTime": {
     "end_time": "2023-06-25T16:31:39.060042Z",
     "start_time": "2023-06-25T16:31:39.044504Z"
    }
   },
   "outputs": [],
   "source": [
    "obs = arrivals.arrival_time_in_days.values.reshape((1, -1))\n",
    "T = 365\n",
    "a = obs.size / T\n",
    "\n",
    "max_freq = 6 #in this example, this means a maximum frequency of 6 cycles per day\n",
    "freq_resolution = T*np.log(T)\n",
    "freq_grid = np.linspace( 0, max_freq, num=int( max_freq*freq_resolution ) ).reshape((1, -1))"
   ]
  },
  {
   "cell_type": "markdown",
   "metadata": {},
   "source": [
    "The periodogram may take some time to run, especially for large datasets."
   ]
  },
  {
   "cell_type": "code",
   "execution_count": 4,
   "metadata": {
    "ExecuteTime": {
     "end_time": "2023-06-25T16:32:30.973895Z",
     "start_time": "2023-06-25T16:31:40.138244Z"
    }
   },
   "outputs": [],
   "source": [
    "windowed_periodogram = help_funcs.center_periodogram(T, obs, freq_grid, a)"
   ]
  },
  {
   "cell_type": "markdown",
   "metadata": {},
   "source": [
    "Graph the periodogram to visualize the frequencies present in the arrivals data, and their amplitudes."
   ]
  },
  {
   "cell_type": "code",
   "execution_count": 5,
   "metadata": {
    "ExecuteTime": {
     "end_time": "2023-06-25T16:36:40.789218Z",
     "start_time": "2023-06-25T16:36:40.672133Z"
    },
    "scrolled": false
   },
   "outputs": [
    {
     "data": {
      "text/plain": [
       "Text(0, 0.5, 'Amplitude')"
      ]
     },
     "execution_count": 5,
     "metadata": {},
     "output_type": "execute_result"
    },
    {
     "data": {
      "image/png": "[encoded data removed]",
      "text/plain": [
       "<Figure size 640x480 with 1 Axes>"
      ]
     },
     "metadata": {},
     "output_type": "display_data"
    }
   ],
   "source": [
    "plt.plot(freq_grid.flatten(), windowed_periodogram.flatten())\n",
    "\n",
    "plt.xlabel(\"Frequency (cycles/day)\")\n",
    "plt.ylabel(\"Amplitude\")"
   ]
  },
  {
   "cell_type": "markdown",
   "metadata": {},
   "source": [
    "Ignore frequencies with amplitudes below a certain noise threshold $\\tau$. This represents the level of statistical noise in the frequency domain. $\\tau$ can often be visually inspected. In the example above we pick $\\tau = 6$.\n",
    "\n",
    "For frequencies with amplitudes larger than $\\tau$, we use the `lse_time_cont()` function from the `help_funcs` module to fit the amplitudes $c_k$'s and phases $\\phi_k$'s."
   ]
  },
  {
   "cell_type": "code",
   "execution_count": 6,
   "metadata": {
    "ExecuteTime": {
     "end_time": "2023-06-25T16:36:45.658897Z",
     "start_time": "2023-06-25T16:36:45.234537Z"
    }
   },
   "outputs": [],
   "source": [
    "tau = 6\n",
    "\n",
    "constant, fitted_params = help_funcs.lse_time_cont(\n",
    "    obs, windowed_periodogram, freq_grid, tau, T\n",
    ")"
   ]
  },
  {
   "cell_type": "markdown",
   "metadata": {},
   "source": [
    "The estimated constant is:"
   ]
  },
  {
   "cell_type": "code",
   "execution_count": 7,
   "metadata": {
    "ExecuteTime": {
     "end_time": "2023-06-25T16:36:48.109572Z",
     "start_time": "2023-06-25T16:36:48.091898Z"
    }
   },
   "outputs": [
    {
     "name": "stdout",
     "output_type": "stream",
     "text": [
      "[353.01163721]\n"
     ]
    }
   ],
   "source": [
    "print(constant)"
   ]
  },
  {
   "cell_type": "markdown",
   "metadata": {},
   "source": [
    "The remainder of the estimated parameters are:"
   ]
  },
  {
   "cell_type": "code",
   "execution_count": 8,
   "metadata": {
    "ExecuteTime": {
     "end_time": "2023-06-25T16:36:52.354270Z",
     "start_time": "2023-06-25T16:36:52.338644Z"
    },
    "scrolled": false
   },
   "outputs": [
    {
     "data": {
      "text/html": [
       "<div>\n",
       "<style scoped>\n",
       "    .dataframe tbody tr th:only-of-type {\n",
       "        vertical-align: middle;\n",
       "    }\n",
       "\n",
       "    .dataframe tbody tr th {\n",
       "        vertical-align: top;\n",
       "    }\n",
       "\n",
       "    .dataframe thead th {\n",
       "        text-align: right;\n",
       "    }\n",
       "</style>\n",
       "<table border=\"1\" class=\"dataframe\">\n",
       "  <thead>\n",
       "    <tr style=\"text-align: right;\">\n",
       "      <th></th>\n",
       "      <th>freq</th>\n",
       "      <th>amplitude</th>\n",
       "      <th>phase</th>\n",
       "    </tr>\n",
       "  </thead>\n",
       "  <tbody>\n",
       "    <tr>\n",
       "      <th>0</th>\n",
       "      <td>0.002107</td>\n",
       "      <td>287.677375</td>\n",
       "      <td>-0.720737</td>\n",
       "    </tr>\n",
       "    <tr>\n",
       "      <th>1</th>\n",
       "      <td>0.004215</td>\n",
       "      <td>275.147334</td>\n",
       "      <td>-1.456613</td>\n",
       "    </tr>\n",
       "    <tr>\n",
       "      <th>2</th>\n",
       "      <td>0.006322</td>\n",
       "      <td>264.298520</td>\n",
       "      <td>0.969385</td>\n",
       "    </tr>\n",
       "    <tr>\n",
       "      <th>3</th>\n",
       "      <td>0.008430</td>\n",
       "      <td>287.699738</td>\n",
       "      <td>0.242512</td>\n",
       "    </tr>\n",
       "    <tr>\n",
       "      <th>4</th>\n",
       "      <td>0.010537</td>\n",
       "      <td>2023.711872</td>\n",
       "      <td>-0.511377</td>\n",
       "    </tr>\n",
       "    <tr>\n",
       "      <th>5</th>\n",
       "      <td>0.010682</td>\n",
       "      <td>1875.612506</td>\n",
       "      <td>-0.360270</td>\n",
       "    </tr>\n",
       "    <tr>\n",
       "      <th>6</th>\n",
       "      <td>0.012645</td>\n",
       "      <td>46.699304</td>\n",
       "      <td>-1.281902</td>\n",
       "    </tr>\n",
       "    <tr>\n",
       "      <th>7</th>\n",
       "      <td>0.032046</td>\n",
       "      <td>46.161023</td>\n",
       "      <td>-0.384892</td>\n",
       "    </tr>\n",
       "    <tr>\n",
       "      <th>8</th>\n",
       "      <td>0.043192</td>\n",
       "      <td>26.348176</td>\n",
       "      <td>1.474984</td>\n",
       "    </tr>\n",
       "    <tr>\n",
       "      <th>9</th>\n",
       "      <td>0.065485</td>\n",
       "      <td>73.107754</td>\n",
       "      <td>0.113030</td>\n",
       "    </tr>\n",
       "    <tr>\n",
       "      <th>10</th>\n",
       "      <td>0.142581</td>\n",
       "      <td>75.284422</td>\n",
       "      <td>-0.073029</td>\n",
       "    </tr>\n",
       "    <tr>\n",
       "      <th>11</th>\n",
       "      <td>0.285626</td>\n",
       "      <td>61.301234</td>\n",
       "      <td>0.170767</td>\n",
       "    </tr>\n",
       "    <tr>\n",
       "      <th>12</th>\n",
       "      <td>0.428671</td>\n",
       "      <td>25.176998</td>\n",
       "      <td>0.579448</td>\n",
       "    </tr>\n",
       "    <tr>\n",
       "      <th>13</th>\n",
       "      <td>0.714297</td>\n",
       "      <td>33.277789</td>\n",
       "      <td>-0.519142</td>\n",
       "    </tr>\n",
       "    <tr>\n",
       "      <th>14</th>\n",
       "      <td>0.999923</td>\n",
       "      <td>261.710620</td>\n",
       "      <td>0.074788</td>\n",
       "    </tr>\n",
       "    <tr>\n",
       "      <th>15</th>\n",
       "      <td>1.142968</td>\n",
       "      <td>40.927941</td>\n",
       "      <td>0.438348</td>\n",
       "    </tr>\n",
       "    <tr>\n",
       "      <th>16</th>\n",
       "      <td>1.285548</td>\n",
       "      <td>32.065439</td>\n",
       "      <td>0.199429</td>\n",
       "    </tr>\n",
       "    <tr>\n",
       "      <th>17</th>\n",
       "      <td>1.999845</td>\n",
       "      <td>115.757520</td>\n",
       "      <td>-1.292750</td>\n",
       "    </tr>\n",
       "    <tr>\n",
       "      <th>18</th>\n",
       "      <td>2.999768</td>\n",
       "      <td>42.333283</td>\n",
       "      <td>0.798681</td>\n",
       "    </tr>\n",
       "    <tr>\n",
       "      <th>19</th>\n",
       "      <td>3.999690</td>\n",
       "      <td>31.074924</td>\n",
       "      <td>-0.028073</td>\n",
       "    </tr>\n",
       "  </tbody>\n",
       "</table>\n",
       "</div>"
      ],
      "text/plain": [
       "        freq    amplitude     phase\n",
       "0   0.002107   287.677375 -0.720737\n",
       "1   0.004215   275.147334 -1.456613\n",
       "2   0.006322   264.298520  0.969385\n",
       "3   0.008430   287.699738  0.242512\n",
       "4   0.010537  2023.711872 -0.511377\n",
       "5   0.010682  1875.612506 -0.360270\n",
       "6   0.012645    46.699304 -1.281902\n",
       "7   0.032046    46.161023 -0.384892\n",
       "8   0.043192    26.348176  1.474984\n",
       "9   0.065485    73.107754  0.113030\n",
       "10  0.142581    75.284422 -0.073029\n",
       "11  0.285626    61.301234  0.170767\n",
       "12  0.428671    25.176998  0.579448\n",
       "13  0.714297    33.277789 -0.519142\n",
       "14  0.999923   261.710620  0.074788\n",
       "15  1.142968    40.927941  0.438348\n",
       "16  1.285548    32.065439  0.199429\n",
       "17  1.999845   115.757520 -1.292750\n",
       "18  2.999768    42.333283  0.798681\n",
       "19  3.999690    31.074924 -0.028073"
      ]
     },
     "execution_count": 8,
     "metadata": {},
     "output_type": "execute_result"
    }
   ],
   "source": [
    "fitted_params"
   ]
  }
 ],
 "metadata": {
  "kernelspec": {
   "display_name": "Python 3 (ipykernel)",
   "language": "python",
   "name": "python3"
  },
  "language_info": {
   "codemirror_mode": {
    "name": "ipython",
    "version": 3
   },
   "file_extension": ".py",
   "mimetype": "text/x-python",
   "name": "python",
   "nbconvert_exporter": "python",
   "pygments_lexer": "ipython3",
   "version": "3.10.9"
  }
 },
 "nbformat": 4,
 "nbformat_minor": 1
}
