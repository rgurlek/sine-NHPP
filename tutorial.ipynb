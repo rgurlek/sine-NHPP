{
 "cells": [
  {
   "cell_type": "code",
   "execution_count": 1,
   "outputs": [],
   "source": [
    "import pandas as pd\n",
    "import numpy as np\n",
    "import help_funcs\n",
    "import matplotlib.pyplot as plt"
   ],
   "metadata": {
    "collapsed": false,
    "ExecuteTime": {
     "start_time": "2023-06-23T18:27:33.688565Z",
     "end_time": "2023-06-23T18:27:34.868115Z"
    }
   }
  },
  {
   "cell_type": "code",
   "execution_count": 2,
   "outputs": [
    {
     "data": {
      "text/plain": "   shift  arrival_time  arrival_time_in_days\n0      0      0.125118              0.002607\n1      0      0.160490              0.003344\n2      0      0.187489              0.003906\n3      0      0.271592              0.005658\n4      0      0.404979              0.008437",
      "text/html": "<div>\n<style scoped>\n    .dataframe tbody tr th:only-of-type {\n        vertical-align: middle;\n    }\n\n    .dataframe tbody tr th {\n        vertical-align: top;\n    }\n\n    .dataframe thead th {\n        text-align: right;\n    }\n</style>\n<table border=\"1\" class=\"dataframe\">\n  <thead>\n    <tr style=\"text-align: right;\">\n      <th></th>\n      <th>shift</th>\n      <th>arrival_time</th>\n      <th>arrival_time_in_days</th>\n    </tr>\n  </thead>\n  <tbody>\n    <tr>\n      <th>0</th>\n      <td>0</td>\n      <td>0.125118</td>\n      <td>0.002607</td>\n    </tr>\n    <tr>\n      <th>1</th>\n      <td>0</td>\n      <td>0.160490</td>\n      <td>0.003344</td>\n    </tr>\n    <tr>\n      <th>2</th>\n      <td>0</td>\n      <td>0.187489</td>\n      <td>0.003906</td>\n    </tr>\n    <tr>\n      <th>3</th>\n      <td>0</td>\n      <td>0.271592</td>\n      <td>0.005658</td>\n    </tr>\n    <tr>\n      <th>4</th>\n      <td>0</td>\n      <td>0.404979</td>\n      <td>0.008437</td>\n    </tr>\n  </tbody>\n</table>\n</div>"
     },
     "execution_count": 2,
     "metadata": {},
     "output_type": "execute_result"
    }
   ],
   "source": [
    "arrival_table = pd.read_csv('simulated_from_PC3_small_example.csv')\n",
    "arrival_table.head()"
   ],
   "metadata": {
    "collapsed": false,
    "ExecuteTime": {
     "start_time": "2023-06-23T18:27:41.708795Z",
     "end_time": "2023-06-23T18:27:41.803936Z"
    }
   }
  },
  {
   "cell_type": "code",
   "execution_count": 3,
   "outputs": [],
   "source": [
    "obs = arrival_table.arrival_time_in_days.values.reshape((1, -1))\n",
    "T = np.ceil(np.max(obs))\n",
    "freq_grid = (np.arange(0, 10 * 365 + 1) / 365).reshape((1, -1))\n",
    "a = obs.size / T"
   ],
   "metadata": {
    "collapsed": false,
    "ExecuteTime": {
     "start_time": "2023-06-23T18:27:43.897822Z",
     "end_time": "2023-06-23T18:27:43.913794Z"
    }
   }
  },
  {
   "cell_type": "code",
   "execution_count": 4,
   "outputs": [],
   "source": [
    "periodogram_window = help_funcs.center_periodogram(T, obs, freq_grid, a)"
   ],
   "metadata": {
    "collapsed": false,
    "ExecuteTime": {
     "start_time": "2023-06-23T18:27:45.259151Z",
     "end_time": "2023-06-23T18:28:35.068564Z"
    }
   }
  },
  {
   "cell_type": "code",
   "execution_count": 5,
   "outputs": [
    {
     "data": {
      "text/plain": "[<matplotlib.lines.Line2D at 0x284e6754c40>]"
     },
     "execution_count": 5,
     "metadata": {},
     "output_type": "execute_result"
    },
    {
     "data": {
      "text/plain": "<Figure size 640x480 with 1 Axes>",
      "image/png": "[encoded data removed]"
     },
     "metadata": {},
     "output_type": "display_data"
    }
   ],
   "source": [
    "plt.plot(freq_grid.flatten(), periodogram_window.flatten())"
   ],
   "metadata": {
    "collapsed": false,
    "ExecuteTime": {
     "start_time": "2023-06-23T18:28:37.409095Z",
     "end_time": "2023-06-23T18:28:37.711564Z"
    }
   }
  },
  {
   "cell_type": "code",
   "execution_count": 6,
   "outputs": [
    {
     "name": "stdout",
     "output_type": "stream",
     "text": [
      "[117.30993055]\n"
     ]
    }
   ],
   "source": [
    "tau_constant = 6\n",
    "\n",
    "constant, fitted_params = help_funcs.lse_time_cont(\n",
    "    obs, periodogram_window, freq_grid, tau_constant, T\n",
    ")\n",
    "\n",
    "print(constant)"
   ],
   "metadata": {
    "collapsed": false,
    "ExecuteTime": {
     "start_time": "2023-06-23T18:28:44.427435Z",
     "end_time": "2023-06-23T18:28:44.892153Z"
    }
   }
  },
  {
   "cell_type": "code",
   "execution_count": 7,
   "outputs": [
    {
     "data": {
      "text/plain": "        freq    amplitude     phase\n0   0.002107   744.916016 -0.763309\n1   0.004215   694.190945 -1.535121\n2   0.006322   632.547952  0.837166\n3   0.008430   619.162474  0.054183\n4   0.010537  1586.731493 -0.746831\n5   0.010959  1345.705607 -0.306182\n6   0.012645   109.431556  1.527806\n7   0.032877    41.163725  0.528329\n8   0.043836    23.035604 -0.966596\n9   0.065753    74.311656  0.415566\n10  0.142466    74.362165 -0.211885\n11  0.284932    54.011906 -0.614887\n12  0.715068    28.213656  0.330424\n13  1.000000   261.733823  0.163619\n14  1.142466    39.382272 -0.133231\n15  1.284932    27.864881 -0.487397\n16  2.000000   116.538382 -1.115563\n17  3.000000    42.568705  1.059744\n18  4.000000    31.461486  0.306960",
      "text/html": "<div>\n<style scoped>\n    .dataframe tbody tr th:only-of-type {\n        vertical-align: middle;\n    }\n\n    .dataframe tbody tr th {\n        vertical-align: top;\n    }\n\n    .dataframe thead th {\n        text-align: right;\n    }\n</style>\n<table border=\"1\" class=\"dataframe\">\n  <thead>\n    <tr style=\"text-align: right;\">\n      <th></th>\n      <th>freq</th>\n      <th>amplitude</th>\n      <th>phase</th>\n    </tr>\n  </thead>\n  <tbody>\n    <tr>\n      <th>0</th>\n      <td>0.002107</td>\n      <td>744.916016</td>\n      <td>-0.763309</td>\n    </tr>\n    <tr>\n      <th>1</th>\n      <td>0.004215</td>\n      <td>694.190945</td>\n      <td>-1.535121</td>\n    </tr>\n    <tr>\n      <th>2</th>\n      <td>0.006322</td>\n      <td>632.547952</td>\n      <td>0.837166</td>\n    </tr>\n    <tr>\n      <th>3</th>\n      <td>0.008430</td>\n      <td>619.162474</td>\n      <td>0.054183</td>\n    </tr>\n    <tr>\n      <th>4</th>\n      <td>0.010537</td>\n      <td>1586.731493</td>\n      <td>-0.746831</td>\n    </tr>\n    <tr>\n      <th>5</th>\n      <td>0.010959</td>\n      <td>1345.705607</td>\n      <td>-0.306182</td>\n    </tr>\n    <tr>\n      <th>6</th>\n      <td>0.012645</td>\n      <td>109.431556</td>\n      <td>1.527806</td>\n    </tr>\n    <tr>\n      <th>7</th>\n      <td>0.032877</td>\n      <td>41.163725</td>\n      <td>0.528329</td>\n    </tr>\n    <tr>\n      <th>8</th>\n      <td>0.043836</td>\n      <td>23.035604</td>\n      <td>-0.966596</td>\n    </tr>\n    <tr>\n      <th>9</th>\n      <td>0.065753</td>\n      <td>74.311656</td>\n      <td>0.415566</td>\n    </tr>\n    <tr>\n      <th>10</th>\n      <td>0.142466</td>\n      <td>74.362165</td>\n      <td>-0.211885</td>\n    </tr>\n    <tr>\n      <th>11</th>\n      <td>0.284932</td>\n      <td>54.011906</td>\n      <td>-0.614887</td>\n    </tr>\n    <tr>\n      <th>12</th>\n      <td>0.715068</td>\n      <td>28.213656</td>\n      <td>0.330424</td>\n    </tr>\n    <tr>\n      <th>13</th>\n      <td>1.000000</td>\n      <td>261.733823</td>\n      <td>0.163619</td>\n    </tr>\n    <tr>\n      <th>14</th>\n      <td>1.142466</td>\n      <td>39.382272</td>\n      <td>-0.133231</td>\n    </tr>\n    <tr>\n      <th>15</th>\n      <td>1.284932</td>\n      <td>27.864881</td>\n      <td>-0.487397</td>\n    </tr>\n    <tr>\n      <th>16</th>\n      <td>2.000000</td>\n      <td>116.538382</td>\n      <td>-1.115563</td>\n    </tr>\n    <tr>\n      <th>17</th>\n      <td>3.000000</td>\n      <td>42.568705</td>\n      <td>1.059744</td>\n    </tr>\n    <tr>\n      <th>18</th>\n      <td>4.000000</td>\n      <td>31.461486</td>\n      <td>0.306960</td>\n    </tr>\n  </tbody>\n</table>\n</div>"
     },
     "execution_count": 7,
     "metadata": {},
     "output_type": "execute_result"
    }
   ],
   "source": [
    "fitted_params"
   ],
   "metadata": {
    "collapsed": false,
    "ExecuteTime": {
     "start_time": "2023-06-23T18:28:46.732843Z",
     "end_time": "2023-06-23T18:28:46.780128Z"
    }
   }
  },
  {
   "cell_type": "code",
   "execution_count": null,
   "outputs": [],
   "source": [],
   "metadata": {
    "collapsed": false
   }
  }
 ],
 "metadata": {
  "kernelspec": {
   "display_name": "Python 3",
   "language": "python",
   "name": "python3"
  },
  "language_info": {
   "codemirror_mode": {
    "name": "ipython",
    "version": 2
   },
   "file_extension": ".py",
   "mimetype": "text/x-python",
   "name": "python",
   "nbconvert_exporter": "python",
   "pygments_lexer": "ipython2",
   "version": "2.7.6"
  }
 },
 "nbformat": 4,
 "nbformat_minor": 0
}
